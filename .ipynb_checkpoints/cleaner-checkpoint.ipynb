{
 "cells": [
  {
   "cell_type": "code",
   "execution_count": 1,
   "metadata": {
    "collapsed": true
   },
   "outputs": [],
   "source": [
    "import os\n",
    "import platform"
   ]
  },
  {
   "cell_type": "code",
   "execution_count": 2,
   "metadata": {},
   "outputs": [
    {
     "name": "stdout",
     "output_type": "stream",
     "text": [
      " Volume in drive C is TI10709800F\n",
      " Volume Serial Number is 9CBB-1390\n",
      "\n",
      " Directory of C:\\Users\\Vasia\\Documents\\projects\\smart_energy_hw1\n",
      "\n",
      "11/19/2017  04:37 PM    <DIR>          .\n",
      "11/19/2017  04:37 PM    <DIR>          ..\n",
      "11/19/2017  04:21 PM               123 .gitignore\n",
      "11/19/2017  04:37 PM    <DIR>          .ipynb_checkpoints\n",
      "11/19/2017  03:20 PM       495,032,008 combined_data_1.txt\n",
      "11/19/2017  03:21 PM       555,207,357 combined_data_2.txt\n",
      "11/19/2017  03:21 PM       465,157,779 combined_data_3.txt\n",
      "11/19/2017  03:21 PM       552,537,802 combined_data_4.txt\n",
      "11/19/2017  03:21 PM           577,547 movie_titles.csv\n",
      "11/19/2017  04:37 PM             8,682 prediction.ipynb\n",
      "11/19/2017  03:21 PM        10,782,692 probe.txt\n",
      "11/19/2017  03:21 PM        52,452,386 qualifying.txt\n",
      "11/19/2017  03:20 PM             5,916 README\n",
      "11/19/2017  04:37 PM                72 Untitled.ipynb\n",
      "              11 File(s)  2,131,762,364 bytes\n",
      "               3 Dir(s)  28,686,004,224 bytes free\n"
     ]
    }
   ],
   "source": [
    "if platform.system() == 'Windows':\n",
    "    !dir\n",
    "else:\n",
    "    !ls"
   ]
  },
  {
   "cell_type": "code",
   "execution_count": 10,
   "metadata": {
    "collapsed": true
   },
   "outputs": [],
   "source": [
    "### Clean the movie_titles csv. Put in quotes  for the movie names.\n",
    "\n",
    "f1 = open('movie_titles.csv','r')\n",
    "f2 = open('movie_titles_cleaned.csv','w')\n",
    "\n",
    "i = 0\n",
    "for line in f1:\n",
    "    parts = line.split(',')\n",
    "    f2.write(parts[0] + ',' + parts[1] + ',' + \"\\\"\" + ''.join(parts[2:]).strip() + \"\\\"\\n\")\n",
    "    \n",
    "f1.close()\n",
    "f2.close()"
   ]
  },
  {
   "cell_type": "code",
   "execution_count": 4,
   "metadata": {
    "collapsed": true
   },
   "outputs": [],
   "source": [
    "### Add the movie_id's into each row for combined_data_1, 2, 3, and 4\n",
    "### to make processing easier. It's not that much more disk space.\n",
    "for i in range(1,5):\n",
    "    f1 = open('combined_data_'+ str(i) +'.txt','r')\n",
    "    f2 = open('combined_data_cleaned_'+ str(i) +'.txt','w')\n",
    "    cur_movie_id = f1.readline().strip()[:-1]\n",
    "    for line in f1:\n",
    "        parts = line.split(',')\n",
    "        if len(parts) == 1:\n",
    "            cur_movie_id = line.strip()[:-1]\n",
    "            continue\n",
    "        else:\n",
    "            f2.write(','.join([cur_movie_id] + parts))\n",
    "    f1.close()\n",
    "    f2.close()\n",
    "    "
   ]
  },
  {
   "cell_type": "code",
   "execution_count": 24,
   "metadata": {},
   "outputs": [],
   "source": []
  },
  {
   "cell_type": "code",
   "execution_count": null,
   "metadata": {
    "collapsed": true
   },
   "outputs": [],
   "source": []
  }
 ],
 "metadata": {
  "anaconda-cloud": {},
  "kernelspec": {
   "display_name": "Python 3",
   "language": "python",
   "name": "python3"
  },
  "language_info": {
   "codemirror_mode": {
    "name": "ipython",
    "version": 3
   },
   "file_extension": ".py",
   "mimetype": "text/x-python",
   "name": "python",
   "nbconvert_exporter": "python",
   "pygments_lexer": "ipython3",
   "version": "3.6.1"
  }
 },
 "nbformat": 4,
 "nbformat_minor": 1
}
