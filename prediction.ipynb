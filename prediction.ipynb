{
 "cells": [
  {
   "cell_type": "code",
   "execution_count": 25,
   "metadata": {
    "collapsed": true
   },
   "outputs": [],
   "source": [
    "import numpy as np\n",
    "import pandas as pd\n",
    "import os\n",
    "import platform\n",
    "from StringIO import StringIO"
   ]
  },
  {
   "cell_type": "code",
   "execution_count": 12,
   "metadata": {
    "collapsed": false
   },
   "outputs": [
    {
     "name": "stdout",
     "output_type": "stream",
     "text": [
      " Volume in drive C is TI10709800F\n",
      " Volume Serial Number is 9CBB-1390\n",
      "\n",
      " Directory of C:\\Users\\Vasia\\Documents\\projects\\smart_energy_hw1\n",
      "\n",
      "11/19/2017  04:33 PM    <DIR>          .\n",
      "11/19/2017  04:33 PM    <DIR>          ..\n",
      "11/19/2017  04:21 PM               123 .gitignore\n",
      "11/19/2017  04:29 PM    <DIR>          .ipynb_checkpoints\n",
      "11/19/2017  03:20 PM       495,032,008 combined_data_1.txt\n",
      "11/19/2017  03:21 PM       555,207,357 combined_data_2.txt\n",
      "11/19/2017  03:21 PM       465,157,779 combined_data_3.txt\n",
      "11/19/2017  03:21 PM       552,537,802 combined_data_4.txt\n",
      "11/19/2017  03:21 PM           577,547 movie_titles.csv\n",
      "11/19/2017  04:33 PM             1,141 prediction.ipynb\n",
      "11/19/2017  03:21 PM        10,782,692 probe.txt\n",
      "11/19/2017  03:21 PM        52,452,386 qualifying.txt\n",
      "11/19/2017  03:20 PM             5,916 README\n",
      "              10 File(s)  2,131,754,751 bytes\n",
      "               3 Dir(s)  28,686,585,856 bytes free\n"
     ]
    }
   ],
   "source": [
    "if platform.system() == 'Windows':\n",
    "    !dir\n",
    "else:\n",
    "    !ls"
   ]
  },
  {
   "cell_type": "code",
   "execution_count": 51,
   "metadata": {
    "collapsed": false
   },
   "outputs": [],
   "source": [
    "movie_titles = pd.read_csv('movie_titles_cleaned.csv', skipinitialspace=True,\n",
    "                           header=None,\n",
    "                           index_col=0,\n",
    "                           names=[\"year\",\"title\"],\n",
    "                           dtype={\"year\":np.float32,\"title\":str}).fillna('')\n"
   ]
  },
  {
   "cell_type": "code",
   "execution_count": null,
   "metadata": {
    "collapsed": false
   },
   "outputs": [],
   "source": []
  },
  {
   "cell_type": "code",
   "execution_count": null,
   "metadata": {
    "collapsed": true
   },
   "outputs": [],
   "source": []
  }
 ],
 "metadata": {
  "anaconda-cloud": {},
  "kernelspec": {
   "display_name": "Python [conda root]",
   "language": "python",
   "name": "conda-root-py"
  },
  "language_info": {
   "codemirror_mode": {
    "name": "ipython",
    "version": 2
   },
   "file_extension": ".py",
   "mimetype": "text/x-python",
   "name": "python",
   "nbconvert_exporter": "python",
   "pygments_lexer": "ipython2",
   "version": "2.7.12"
  }
 },
 "nbformat": 4,
 "nbformat_minor": 1
}
